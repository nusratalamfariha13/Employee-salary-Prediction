{
 "cells": [
  {
   "cell_type": "code",
   "execution_count": 1,
   "id": "6086ee25-4df4-417f-b92c-fbde155df3e8",
   "metadata": {},
   "outputs": [],
   "source": [
    "import pandas as pd\n",
    "import numpy as np\n",
    "import matplotlib.pyplot as plt\n",
    "import seaborn as sns\n",
    "\n",
    "from sklearn.model_selection import train_test_split, GridSearchCV, cross_val_score\n",
    "from sklearn.preprocessing import StandardScaler, OneHotEncoder\n",
    "from sklearn.compose import ColumnTransformer\n",
    "from sklearn.pipeline import Pipeline\n",
    "from sklearn.metrics import mean_absolute_error, mean_squared_error, r2_score\n",
    "from sklearn.linear_model import LinearRegression, Ridge, Lasso\n",
    "from sklearn.tree import DecisionTreeRegressor\n",
    "from sklearn.ensemble import RandomForestRegressor"
   ]
  },
  {
   "cell_type": "code",
   "execution_count": 2,
   "id": "2ea809f8-dfe7-4eed-b310-ef44fee6aaf4",
   "metadata": {},
   "outputs": [],
   "source": [
    "df = pd.read_csv(r\"C:\\Users\\nusra\\Downloads\\Employee_Salary_Data.csv\")"
   ]
  },
  {
   "cell_type": "code",
   "execution_count": 3,
   "id": "4e88d4e3-f409-4139-8af1-82b0e3acfc16",
   "metadata": {},
   "outputs": [
    {
     "data": {
      "text/html": [
       "<div>\n",
       "<style scoped>\n",
       "    .dataframe tbody tr th:only-of-type {\n",
       "        vertical-align: middle;\n",
       "    }\n",
       "\n",
       "    .dataframe tbody tr th {\n",
       "        vertical-align: top;\n",
       "    }\n",
       "\n",
       "    .dataframe thead th {\n",
       "        text-align: right;\n",
       "    }\n",
       "</style>\n",
       "<table border=\"1\" class=\"dataframe\">\n",
       "  <thead>\n",
       "    <tr style=\"text-align: right;\">\n",
       "      <th></th>\n",
       "      <th>Age</th>\n",
       "      <th>Gender</th>\n",
       "      <th>Education Level</th>\n",
       "      <th>Job Title</th>\n",
       "      <th>Years of Experience</th>\n",
       "      <th>Salary</th>\n",
       "    </tr>\n",
       "  </thead>\n",
       "  <tbody>\n",
       "    <tr>\n",
       "      <th>0</th>\n",
       "      <td>32.0</td>\n",
       "      <td>Male</td>\n",
       "      <td>Bachelor's</td>\n",
       "      <td>Software Engineer</td>\n",
       "      <td>5.0</td>\n",
       "      <td>90000.0</td>\n",
       "    </tr>\n",
       "    <tr>\n",
       "      <th>1</th>\n",
       "      <td>28.0</td>\n",
       "      <td>Female</td>\n",
       "      <td>Master's</td>\n",
       "      <td>Data Analyst</td>\n",
       "      <td>3.0</td>\n",
       "      <td>65000.0</td>\n",
       "    </tr>\n",
       "    <tr>\n",
       "      <th>2</th>\n",
       "      <td>45.0</td>\n",
       "      <td>Male</td>\n",
       "      <td>PhD</td>\n",
       "      <td>Senior Manager</td>\n",
       "      <td>15.0</td>\n",
       "      <td>150000.0</td>\n",
       "    </tr>\n",
       "    <tr>\n",
       "      <th>3</th>\n",
       "      <td>36.0</td>\n",
       "      <td>Female</td>\n",
       "      <td>Bachelor's</td>\n",
       "      <td>Sales Associate</td>\n",
       "      <td>7.0</td>\n",
       "      <td>60000.0</td>\n",
       "    </tr>\n",
       "    <tr>\n",
       "      <th>4</th>\n",
       "      <td>52.0</td>\n",
       "      <td>Male</td>\n",
       "      <td>Master's</td>\n",
       "      <td>Director</td>\n",
       "      <td>20.0</td>\n",
       "      <td>200000.0</td>\n",
       "    </tr>\n",
       "  </tbody>\n",
       "</table>\n",
       "</div>"
      ],
      "text/plain": [
       "    Age  Gender Education Level          Job Title  Years of Experience  \\\n",
       "0  32.0    Male      Bachelor's  Software Engineer                  5.0   \n",
       "1  28.0  Female        Master's       Data Analyst                  3.0   \n",
       "2  45.0    Male             PhD     Senior Manager                 15.0   \n",
       "3  36.0  Female      Bachelor's    Sales Associate                  7.0   \n",
       "4  52.0    Male        Master's           Director                 20.0   \n",
       "\n",
       "     Salary  \n",
       "0   90000.0  \n",
       "1   65000.0  \n",
       "2  150000.0  \n",
       "3   60000.0  \n",
       "4  200000.0  "
      ]
     },
     "execution_count": 3,
     "metadata": {},
     "output_type": "execute_result"
    }
   ],
   "source": [
    "df.head()"
   ]
  },
  {
   "cell_type": "code",
   "execution_count": 4,
   "id": "3a84e198-a1a4-40e1-b785-deda427f285b",
   "metadata": {},
   "outputs": [
    {
     "data": {
      "text/html": [
       "<div>\n",
       "<style scoped>\n",
       "    .dataframe tbody tr th:only-of-type {\n",
       "        vertical-align: middle;\n",
       "    }\n",
       "\n",
       "    .dataframe tbody tr th {\n",
       "        vertical-align: top;\n",
       "    }\n",
       "\n",
       "    .dataframe thead th {\n",
       "        text-align: right;\n",
       "    }\n",
       "</style>\n",
       "<table border=\"1\" class=\"dataframe\">\n",
       "  <thead>\n",
       "    <tr style=\"text-align: right;\">\n",
       "      <th></th>\n",
       "      <th>Age</th>\n",
       "      <th>Gender</th>\n",
       "      <th>Education Level</th>\n",
       "      <th>Job Title</th>\n",
       "      <th>Years of Experience</th>\n",
       "      <th>Salary</th>\n",
       "    </tr>\n",
       "  </thead>\n",
       "  <tbody>\n",
       "    <tr>\n",
       "      <th>6699</th>\n",
       "      <td>49.0</td>\n",
       "      <td>Female</td>\n",
       "      <td>PhD</td>\n",
       "      <td>Director of Marketing</td>\n",
       "      <td>20.0</td>\n",
       "      <td>200000.0</td>\n",
       "    </tr>\n",
       "    <tr>\n",
       "      <th>6700</th>\n",
       "      <td>32.0</td>\n",
       "      <td>Male</td>\n",
       "      <td>High School</td>\n",
       "      <td>Sales Associate</td>\n",
       "      <td>3.0</td>\n",
       "      <td>50000.0</td>\n",
       "    </tr>\n",
       "    <tr>\n",
       "      <th>6701</th>\n",
       "      <td>30.0</td>\n",
       "      <td>Female</td>\n",
       "      <td>Bachelor's Degree</td>\n",
       "      <td>Financial Manager</td>\n",
       "      <td>4.0</td>\n",
       "      <td>55000.0</td>\n",
       "    </tr>\n",
       "    <tr>\n",
       "      <th>6702</th>\n",
       "      <td>46.0</td>\n",
       "      <td>Male</td>\n",
       "      <td>Master's Degree</td>\n",
       "      <td>Marketing Manager</td>\n",
       "      <td>14.0</td>\n",
       "      <td>140000.0</td>\n",
       "    </tr>\n",
       "    <tr>\n",
       "      <th>6703</th>\n",
       "      <td>26.0</td>\n",
       "      <td>Female</td>\n",
       "      <td>High School</td>\n",
       "      <td>Sales Executive</td>\n",
       "      <td>1.0</td>\n",
       "      <td>35000.0</td>\n",
       "    </tr>\n",
       "  </tbody>\n",
       "</table>\n",
       "</div>"
      ],
      "text/plain": [
       "       Age  Gender    Education Level              Job Title  \\\n",
       "6699  49.0  Female                PhD  Director of Marketing   \n",
       "6700  32.0    Male        High School        Sales Associate   \n",
       "6701  30.0  Female  Bachelor's Degree      Financial Manager   \n",
       "6702  46.0    Male    Master's Degree      Marketing Manager   \n",
       "6703  26.0  Female        High School        Sales Executive   \n",
       "\n",
       "      Years of Experience    Salary  \n",
       "6699                 20.0  200000.0  \n",
       "6700                  3.0   50000.0  \n",
       "6701                  4.0   55000.0  \n",
       "6702                 14.0  140000.0  \n",
       "6703                  1.0   35000.0  "
      ]
     },
     "execution_count": 4,
     "metadata": {},
     "output_type": "execute_result"
    }
   ],
   "source": [
    "df.tail()"
   ]
  },
  {
   "cell_type": "code",
   "execution_count": 5,
   "id": "3de9d6fa-b383-4408-877f-4c00b4befc0d",
   "metadata": {},
   "outputs": [
    {
     "name": "stdout",
     "output_type": "stream",
     "text": [
      "<class 'pandas.core.frame.DataFrame'>\n",
      "RangeIndex: 6704 entries, 0 to 6703\n",
      "Data columns (total 6 columns):\n",
      " #   Column               Non-Null Count  Dtype  \n",
      "---  ------               --------------  -----  \n",
      " 0   Age                  6702 non-null   float64\n",
      " 1   Gender               6702 non-null   object \n",
      " 2   Education Level      6701 non-null   object \n",
      " 3   Job Title            6702 non-null   object \n",
      " 4   Years of Experience  6701 non-null   float64\n",
      " 5   Salary               6699 non-null   float64\n",
      "dtypes: float64(3), object(3)\n",
      "memory usage: 314.4+ KB\n"
     ]
    }
   ],
   "source": [
    "df.info()"
   ]
  },
  {
   "cell_type": "code",
   "execution_count": 6,
   "id": "2cd9733c-0c94-4606-bd13-5c32e4a5284b",
   "metadata": {},
   "outputs": [
    {
     "data": {
      "text/plain": [
       "Age                    2\n",
       "Gender                 2\n",
       "Education Level        3\n",
       "Job Title              2\n",
       "Years of Experience    3\n",
       "Salary                 5\n",
       "dtype: int64"
      ]
     },
     "execution_count": 6,
     "metadata": {},
     "output_type": "execute_result"
    }
   ],
   "source": [
    "# Check missing values in each column\n",
    "df.isnull().sum()"
   ]
  },
  {
   "cell_type": "code",
   "execution_count": 50,
   "id": "025f141a-f999-4b2e-9abd-b5a81a3d51e9",
   "metadata": {},
   "outputs": [],
   "source": [
    "# Drop rows with any missing values\n",
    "df_clean = df.dropna(how='all')"
   ]
  },
  {
   "cell_type": "code",
   "execution_count": 51,
   "id": "31d6698b-6888-4588-b623-0062526e7b5f",
   "metadata": {},
   "outputs": [
    {
     "data": {
      "text/plain": [
       "Age                    0\n",
       "Gender                 0\n",
       "Education Level        1\n",
       "Job Title              0\n",
       "Years of Experience    0\n",
       "Salary                 0\n",
       "dtype: int64"
      ]
     },
     "execution_count": 51,
     "metadata": {},
     "output_type": "execute_result"
    }
   ],
   "source": [
    "df.isnull().sum()"
   ]
  },
  {
   "cell_type": "code",
   "execution_count": 58,
   "id": "ed46fc4c-9238-4d26-adc7-aceccfd149bf",
   "metadata": {},
   "outputs": [],
   "source": [
    "df.columns = df.columns.str.strip().str.lower(); df['education level'] = df['education level'].replace(['', ' ', 'None'], np.nan); df = df.dropna(subset=['education level'])"
   ]
  },
  {
   "cell_type": "code",
   "execution_count": 59,
   "id": "a73a0b40-e421-4c95-9d30-11f8fbb9b0ce",
   "metadata": {},
   "outputs": [
    {
     "data": {
      "text/plain": [
       "age                    0\n",
       "gender                 0\n",
       "education level        0\n",
       "job title              0\n",
       "years of experience    0\n",
       "salary                 0\n",
       "dtype: int64"
      ]
     },
     "execution_count": 59,
     "metadata": {},
     "output_type": "execute_result"
    }
   ],
   "source": [
    "df.isnull().sum()"
   ]
  },
  {
   "cell_type": "code",
   "execution_count": 52,
   "id": "a0f5c360-2b49-4b29-97ff-40db030f485e",
   "metadata": {
    "scrolled": true
   },
   "outputs": [
    {
     "name": "stdout",
     "output_type": "stream",
     "text": [
      "Duplicate rows: 0\n"
     ]
    }
   ],
   "source": [
    "# Check duplicates\n",
    "print(\"Duplicate rows:\", df.duplicated().sum())"
   ]
  },
  {
   "cell_type": "code",
   "execution_count": 53,
   "id": "edc526a2-bb60-498e-b8dc-92792ae98780",
   "metadata": {},
   "outputs": [
    {
     "data": {
      "text/plain": [
       "np.int64(0)"
      ]
     },
     "execution_count": 53,
     "metadata": {},
     "output_type": "execute_result"
    }
   ],
   "source": [
    "df.duplicated().sum()"
   ]
  },
  {
   "cell_type": "code",
   "execution_count": 54,
   "id": "a5ceb33c-7ff9-4272-94d1-c3f4e035a618",
   "metadata": {},
   "outputs": [
    {
     "data": {
      "text/plain": [
       "6"
      ]
     },
     "execution_count": 54,
     "metadata": {},
     "output_type": "execute_result"
    }
   ],
   "source": [
    "len(df.columns)"
   ]
  },
  {
   "cell_type": "code",
   "execution_count": 10,
   "id": "3ed31975-4b50-40f1-bc31-36052b8cbb96",
   "metadata": {},
   "outputs": [
    {
     "data": {
      "text/html": [
       "<div>\n",
       "<style scoped>\n",
       "    .dataframe tbody tr th:only-of-type {\n",
       "        vertical-align: middle;\n",
       "    }\n",
       "\n",
       "    .dataframe tbody tr th {\n",
       "        vertical-align: top;\n",
       "    }\n",
       "\n",
       "    .dataframe thead th {\n",
       "        text-align: right;\n",
       "    }\n",
       "</style>\n",
       "<table border=\"1\" class=\"dataframe\">\n",
       "  <thead>\n",
       "    <tr style=\"text-align: right;\">\n",
       "      <th></th>\n",
       "      <th>Age</th>\n",
       "      <th>Years of Experience</th>\n",
       "      <th>Salary</th>\n",
       "    </tr>\n",
       "  </thead>\n",
       "  <tbody>\n",
       "    <tr>\n",
       "      <th>count</th>\n",
       "      <td>6702.000000</td>\n",
       "      <td>6701.000000</td>\n",
       "      <td>6699.000000</td>\n",
       "    </tr>\n",
       "    <tr>\n",
       "      <th>mean</th>\n",
       "      <td>33.620859</td>\n",
       "      <td>8.094687</td>\n",
       "      <td>115326.964771</td>\n",
       "    </tr>\n",
       "    <tr>\n",
       "      <th>std</th>\n",
       "      <td>7.614633</td>\n",
       "      <td>6.059003</td>\n",
       "      <td>52786.183911</td>\n",
       "    </tr>\n",
       "    <tr>\n",
       "      <th>min</th>\n",
       "      <td>21.000000</td>\n",
       "      <td>0.000000</td>\n",
       "      <td>350.000000</td>\n",
       "    </tr>\n",
       "    <tr>\n",
       "      <th>25%</th>\n",
       "      <td>28.000000</td>\n",
       "      <td>3.000000</td>\n",
       "      <td>70000.000000</td>\n",
       "    </tr>\n",
       "    <tr>\n",
       "      <th>50%</th>\n",
       "      <td>32.000000</td>\n",
       "      <td>7.000000</td>\n",
       "      <td>115000.000000</td>\n",
       "    </tr>\n",
       "    <tr>\n",
       "      <th>75%</th>\n",
       "      <td>38.000000</td>\n",
       "      <td>12.000000</td>\n",
       "      <td>160000.000000</td>\n",
       "    </tr>\n",
       "    <tr>\n",
       "      <th>max</th>\n",
       "      <td>62.000000</td>\n",
       "      <td>34.000000</td>\n",
       "      <td>250000.000000</td>\n",
       "    </tr>\n",
       "  </tbody>\n",
       "</table>\n",
       "</div>"
      ],
      "text/plain": [
       "               Age  Years of Experience         Salary\n",
       "count  6702.000000          6701.000000    6699.000000\n",
       "mean     33.620859             8.094687  115326.964771\n",
       "std       7.614633             6.059003   52786.183911\n",
       "min      21.000000             0.000000     350.000000\n",
       "25%      28.000000             3.000000   70000.000000\n",
       "50%      32.000000             7.000000  115000.000000\n",
       "75%      38.000000            12.000000  160000.000000\n",
       "max      62.000000            34.000000  250000.000000"
      ]
     },
     "execution_count": 10,
     "metadata": {},
     "output_type": "execute_result"
    }
   ],
   "source": [
    "df.describe()"
   ]
  },
  {
   "cell_type": "code",
   "execution_count": 11,
   "id": "2e0d5881-8101-40e1-8188-f7ed4b200ab4",
   "metadata": {},
   "outputs": [],
   "source": [
    "#eda"
   ]
  },
  {
   "cell_type": "code",
   "execution_count": 12,
   "id": "098f1fe8-e7ae-429d-abd1-890249ba7b02",
   "metadata": {},
   "outputs": [
    {
     "name": "stdout",
     "output_type": "stream",
     "text": [
      "Age                    float64\n",
      "Gender                  object\n",
      "Education Level         object\n",
      "Job Title               object\n",
      "Years of Experience    float64\n",
      "Salary                 float64\n",
      "dtype: object\n"
     ]
    }
   ],
   "source": [
    "# Check datatypes\n",
    "print(df.dtypes)"
   ]
  },
  {
   "cell_type": "code",
   "execution_count": 13,
   "id": "0ca4a7eb-f8e1-434d-a0c8-2788ef6dd976",
   "metadata": {},
   "outputs": [
    {
     "name": "stdout",
     "output_type": "stream",
     "text": [
      "Age: [32. 28. 45. 36. 52.]\n",
      "Years of Experience: [ 5.  3. 15.  7. 20.]\n",
      "Salary: [ 90000.  65000. 150000.  60000. 200000.]\n"
     ]
    }
   ],
   "source": [
    "# Select numerical columns\n",
    "numerical_columns = df.select_dtypes(include=['number']).columns\n",
    "\n",
    "# Define the first 5 numerical columns for plotting\n",
    "selected_columns = numerical_columns[:5]\n",
    "\n",
    "# Quick check: show sample values from each selected column\n",
    "for col in selected_columns:\n",
    "    print(f\"{col}: {df[col].dropna().unique()[:5]}\")"
   ]
  },
  {
   "cell_type": "code",
   "execution_count": 14,
   "id": "8915b385-8b47-4f56-852e-eb359b04cb1d",
   "metadata": {},
   "outputs": [
    {
     "data": {
      "image/png": "[encoded data removed]",
      "text/plain": [
       "<Figure size 2000x1200 with 3 Axes>"
      ]
     },
     "metadata": {},
     "output_type": "display_data"
    }
   ],
   "source": [
    "# Create a 3x3 grid for histograms\n",
    "fig, axes = plt.subplots(3, 3, figsize=(20, 12))\n",
    "axes = axes.flatten()\n",
    "\n",
    "# Plot histograms\n",
    "for i, column in enumerate(selected_columns):\n",
    "    axes[i].hist(df[column].dropna(), bins=30, color='skyblue', edgecolor='black')\n",
    "    axes[i].set_title(f'Histogram of {column}', fontsize=14)\n",
    "    axes[i].set_xlabel(column, fontsize=12)\n",
    "    axes[i].set_ylabel('Frequency', fontsize=12)\n",
    "\n",
    "# Hide unused subplots if fewer than 9 columns\n",
    "for j in range(len(selected_columns), 9):\n",
    "    fig.delaxes(axes[j])\n",
    "\n",
    "plt.tight_layout()\n",
    "plt.show()"
   ]
  },
  {
   "cell_type": "code",
   "execution_count": 15,
   "id": "4b4cb05c-cba6-4f16-86f4-fea169c94640",
   "metadata": {},
   "outputs": [],
   "source": [
    "# Compute the correlation matrix for numerical columns only\n",
    "corr_matrix = df.corr(numeric_only=True)"
   ]
  },
  {
   "cell_type": "code",
   "execution_count": 16,
   "id": "36af79ae-30c6-4e36-b702-cc91ad9f9a55",
   "metadata": {},
   "outputs": [],
   "source": [
    "#correlation_matrix"
   ]
  },
  {
   "cell_type": "code",
   "execution_count": 17,
   "id": "65b59f70-f55d-4c5b-b4a3-e3462086f172",
   "metadata": {},
   "outputs": [
    {
     "data": {
      "image/png": "[encoded data removed]",
      "text/plain": [
       "<Figure size 800x600 with 2 Axes>"
      ]
     },
     "metadata": {},
     "output_type": "display_data"
    }
   ],
   "source": [
    "# Set up the matplotlib figure\n",
    "plt.figure(figsize=(8,6))\n",
    "# Create the heatmap\n",
    "sns.heatmap(corr_matrix, annot=True, fmt=\".2f\", cmap='coolwarm', linewidths=0.5, square=True)\n",
    "## Add title and adjust layout\n",
    "plt.title('Correlation Matrix of HR Numerical Features', fontsize=10)\n",
    "plt.tight_layout()\n",
    "plt.show()"
   ]
  },
  {
   "cell_type": "code",
   "execution_count": 18,
   "id": "16e7bef0-65ca-44e4-83ac-c2d5b3b3fef0",
   "metadata": {},
   "outputs": [],
   "source": [
    "from sklearn.preprocessing import OneHotEncoder\n",
    "import pandas as pd\n",
    "\n",
    "# Step 1: Detect categorical columns\n",
    "cat_cols = df.select_dtypes(include='object').columns.tolist()\n",
    "\n",
    "# Step 2: Encode them\n",
    "encoder = OneHotEncoder(sparse_output=False, handle_unknown='ignore')\n",
    "encoded_df = pd.DataFrame(encoder.fit_transform(df[cat_cols]),\n",
    "                          columns=encoder.get_feature_names_out(cat_cols))\n",
    "\n",
    "# Step 3: Merge with the rest of the data\n",
    "df_encoded = pd.concat([df.drop(columns=cat_cols).reset_index(drop=True),\n",
    "                        encoded_df.reset_index(drop=True)], axis=1)"
   ]
  },
  {
   "cell_type": "code",
   "execution_count": 19,
   "id": "75107abc-437a-4a02-b9f5-a61489861816",
   "metadata": {},
   "outputs": [
    {
     "name": "stdout",
     "output_type": "stream",
     "text": [
      "    Age  Years of Experience    Salary  Gender_Female  Gender_Male  \\\n",
      "0  32.0                  5.0   90000.0            0.0          1.0   \n",
      "1  28.0                  3.0   65000.0            1.0          0.0   \n",
      "2  45.0                 15.0  150000.0            0.0          1.0   \n",
      "3  36.0                  7.0   60000.0            1.0          0.0   \n",
      "4  52.0                 20.0  200000.0            0.0          1.0   \n",
      "\n",
      "   Gender_Other  Gender_nan  Education Level_Bachelor's  \\\n",
      "0           0.0         0.0                         1.0   \n",
      "1           0.0         0.0                         0.0   \n",
      "2           0.0         0.0                         0.0   \n",
      "3           0.0         0.0                         1.0   \n",
      "4           0.0         0.0                         0.0   \n",
      "\n",
      "   Education Level_Bachelor's Degree  Education Level_High School  ...  \\\n",
      "0                                0.0                          0.0  ...   \n",
      "1                                0.0                          0.0  ...   \n",
      "2                                0.0                          0.0  ...   \n",
      "3                                0.0                          0.0  ...   \n",
      "4                                0.0                          0.0  ...   \n",
      "\n",
      "   Job Title_Technical Recruiter  Job Title_Technical Support Specialist  \\\n",
      "0                            0.0                                     0.0   \n",
      "1                            0.0                                     0.0   \n",
      "2                            0.0                                     0.0   \n",
      "3                            0.0                                     0.0   \n",
      "4                            0.0                                     0.0   \n",
      "\n",
      "   Job Title_Technical Writer  Job Title_Training Specialist  \\\n",
      "0                         0.0                            0.0   \n",
      "1                         0.0                            0.0   \n",
      "2                         0.0                            0.0   \n",
      "3                         0.0                            0.0   \n",
      "4                         0.0                            0.0   \n",
      "\n",
      "   Job Title_UX Designer  Job Title_UX Researcher  Job Title_VP of Finance  \\\n",
      "0                    0.0                      0.0                      0.0   \n",
      "1                    0.0                      0.0                      0.0   \n",
      "2                    0.0                      0.0                      0.0   \n",
      "3                    0.0                      0.0                      0.0   \n",
      "4                    0.0                      0.0                      0.0   \n",
      "\n",
      "   Job Title_VP of Operations  Job Title_Web Developer  Job Title_nan  \n",
      "0                         0.0                      0.0            0.0  \n",
      "1                         0.0                      0.0            0.0  \n",
      "2                         0.0                      0.0            0.0  \n",
      "3                         0.0                      0.0            0.0  \n",
      "4                         0.0                      0.0            0.0  \n",
      "\n",
      "[5 rows x 209 columns]\n"
     ]
    }
   ],
   "source": [
    "# Preview the result\n",
    "print(df_encoded.head())"
   ]
  },
  {
   "cell_type": "code",
   "execution_count": 20,
   "id": "f84ebca6-7d4e-4b75-87c2-816e5a858961",
   "metadata": {},
   "outputs": [
    {
     "data": {
      "text/plain": [
       "(6704, 6)"
      ]
     },
     "execution_count": 20,
     "metadata": {},
     "output_type": "execute_result"
    }
   ],
   "source": [
    "df.shape"
   ]
  },
  {
   "cell_type": "code",
   "execution_count": 21,
   "id": "c4b85468-f6ba-420e-9076-723843644618",
   "metadata": {},
   "outputs": [],
   "source": [
    "#model building"
   ]
  },
  {
   "cell_type": "code",
   "execution_count": 22,
   "id": "452ee9f7-bab5-4dab-ad50-5e41845f187e",
   "metadata": {},
   "outputs": [],
   "source": [
    "# Drop rows where Salary is missing\n",
    "df = df.dropna(subset=['Salary'])"
   ]
  },
  {
   "cell_type": "code",
   "execution_count": 23,
   "id": "684a42d4-7b15-4618-a5b8-045991b1e18f",
   "metadata": {},
   "outputs": [],
   "source": [
    "# Step 3: Prepare the features (X) and target (y)\n",
    "X = df[['Age', 'Years of Experience', 'Education Level']]  # Feature set\n",
    "y = df['Salary']  # Target variable "
   ]
  },
  {
   "cell_type": "code",
   "execution_count": 24,
   "id": "546d21fe-9582-4e5f-9840-8b48be5ee08b",
   "metadata": {},
   "outputs": [],
   "source": [
    "from sklearn.model_selection import train_test_split\n",
    "\n",
    "X_train, X_test, y_train, y_test = train_test_split(X, y, test_size=0.2, random_state=42)"
   ]
  },
  {
   "cell_type": "code",
   "execution_count": 27,
   "id": "d6ec55d7-8755-4ced-802b-25a4e3e6ee2b",
   "metadata": {},
   "outputs": [
    {
     "name": "stdout",
     "output_type": "stream",
     "text": [
      "Random Forest Performance:\n",
      "MAE : 8733.560090094861\n",
      "MSE : 163847858.04126185\n",
      "RMSE: 12800.306951056364\n",
      "R²  : 0.9423671270209185\n",
      "MAPE: 9.12349824819821\n"
     ]
    }
   ],
   "source": [
    "from sklearn.compose import ColumnTransformer\n",
    "from sklearn.preprocessing import StandardScaler, OneHotEncoder\n",
    "from sklearn.ensemble import RandomForestRegressor\n",
    "from sklearn.pipeline import Pipeline\n",
    "from sklearn.metrics import mean_absolute_error, mean_squared_error, r2_score\n",
    "import numpy as np\n",
    "\n",
    "# Automatically detect numeric & categorical columns\n",
    "num_cols = X_train.select_dtypes(include=['int64', 'float64']).columns\n",
    "cat_cols = X_train.select_dtypes(include=['object', 'category']).columns\n",
    "\n",
    "# Preprocessing (scaling numbers + encoding categories)\n",
    "preprocessor = ColumnTransformer([\n",
    "    ('num', StandardScaler(), num_cols),\n",
    "    ('cat', OneHotEncoder(handle_unknown='ignore'), cat_cols)\n",
    "])\n",
    "\n",
    "# Random Forest pipeline\n",
    "rf_model = Pipeline([\n",
    "    ('prep', preprocessor),\n",
    "    ('model', RandomForestRegressor(n_estimators=200, max_depth=10, random_state=42))\n",
    "])\n",
    "\n",
    "# Train model\n",
    "rf_model.fit(X_train, y_train)\n",
    "\n",
    "# Predict on test data\n",
    "y_pred_rf = rf_model.predict(X_test)\n",
    "\n",
    "# Evaluation metrics\n",
    "mae = mean_absolute_error(y_test, y_pred_rf)\n",
    "mse = mean_squared_error(y_test, y_pred_rf)\n",
    "rmse = np.sqrt(mse)\n",
    "r2 = r2_score(y_test, y_pred_rf)\n",
    "mape = np.mean(np.abs((y_test - y_pred_rf) / y_test)) * 100  # in %\n",
    "\n",
    "print(\"Random Forest Performance:\")\n",
    "print(\"MAE :\", mae)\n",
    "print(\"MSE :\", mse)\n",
    "print(\"RMSE:\", rmse)\n",
    "print(\"R²  :\", r2)\n",
    "print(\"MAPE:\", mape)"
   ]
  },
  {
   "cell_type": "code",
   "execution_count": 28,
   "id": "2beb74ed-4823-469b-a9a5-4cd639f2dbc3",
   "metadata": {},
   "outputs": [
    {
     "name": "stdout",
     "output_type": "stream",
     "text": [
      "Ridge Performance:\n",
      "MAE : 19344.737524659333\n",
      "MSE : 654477448.7504119\n",
      "RMSE: 25582.75686376298\n",
      "R²  : 0.7697899983409797\n",
      "MAPE: 19.98764039082484\n"
     ]
    }
   ],
   "source": [
    "from sklearn.compose import ColumnTransformer\n",
    "from sklearn.preprocessing import StandardScaler, OneHotEncoder\n",
    "from sklearn.linear_model import Ridge\n",
    "from sklearn.pipeline import Pipeline\n",
    "from sklearn.metrics import mean_absolute_error, mean_squared_error, r2_score\n",
    "import numpy as np\n",
    "\n",
    "# Automatically detect numeric & categorical columns\n",
    "num_cols = X_train.select_dtypes(include=['int64', 'float64']).columns\n",
    "cat_cols = X_train.select_dtypes(include=['object', 'category']).columns\n",
    "\n",
    "# Preprocessing (scaling numbers + encoding categories)\n",
    "preprocessor = ColumnTransformer([\n",
    "    ('num', StandardScaler(), num_cols),\n",
    "    ('cat', OneHotEncoder(handle_unknown='ignore'), cat_cols)\n",
    "])\n",
    "\n",
    "# Ridge pipeline\n",
    "ridge_model = Pipeline([\n",
    "    ('prep', preprocessor),\n",
    "    ('model', Ridge(alpha=1.0, random_state=42, max_iter=10000))\n",
    "])\n",
    "\n",
    "# Train model\n",
    "ridge_model.fit(X_train, y_train)\n",
    "\n",
    "# Predict on test data\n",
    "y_pred_ridge = ridge_model.predict(X_test)\n",
    "\n",
    "# Evaluation metrics\n",
    "mae = mean_absolute_error(y_test, y_pred_ridge)\n",
    "mse = mean_squared_error(y_test, y_pred_ridge)\n",
    "rmse = np.sqrt(mse)\n",
    "r2 = r2_score(y_test, y_pred_ridge)\n",
    "mape = np.mean(np.abs((y_test - y_pred_ridge) / y_test)) * 100  # in %\n",
    "\n",
    "print(\"Ridge Performance:\")\n",
    "print(\"MAE :\", mae)\n",
    "print(\"MSE :\", mse)\n",
    "print(\"RMSE:\", rmse)\n",
    "print(\"R²  :\", r2)\n",
    "print(\"MAPE:\", mape)"
   ]
  },
  {
   "cell_type": "code",
   "execution_count": 31,
   "id": "43818181-2f20-433c-b56b-9f7558bb00ea",
   "metadata": {},
   "outputs": [
    {
     "name": "stdout",
     "output_type": "stream",
     "text": [
      "Lasso Performance:\n",
      "MAE : 19341.92219577292\n",
      "MSE : 654539646.7576327\n",
      "RMSE: 25583.972458506767\n",
      "R²  : 0.7697681204239134\n",
      "MAPE: 19.982106579954966\n"
     ]
    }
   ],
   "source": [
    "from sklearn.compose import ColumnTransformer\n",
    "from sklearn.preprocessing import StandardScaler, OneHotEncoder\n",
    "from sklearn.linear_model import Lasso\n",
    "from sklearn.pipeline import Pipeline\n",
    "from sklearn.metrics import mean_absolute_error, mean_squared_error, r2_score\n",
    "import numpy as np\n",
    "\n",
    "# Automatically detect numeric & categorical columns\n",
    "num_cols = X_train.select_dtypes(include=['int64', 'float64']).columns\n",
    "cat_cols = X_train.select_dtypes(include=['object', 'category']).columns\n",
    "\n",
    "# Preprocessing (scaling numbers + encoding categories)\n",
    "preprocessor = ColumnTransformer([\n",
    "    ('num', StandardScaler(), num_cols),\n",
    "    ('cat', OneHotEncoder(handle_unknown='ignore'), cat_cols)\n",
    "])\n",
    "\n",
    "# Lasso pipeline\n",
    "lasso_model = Pipeline([\n",
    "    ('prep', preprocessor),\n",
    "    ('model', Lasso(alpha=0.1, random_state=42, max_iter=10000))\n",
    "])\n",
    "\n",
    "# Train model\n",
    "lasso_model.fit(X_train, y_train)\n",
    "\n",
    "# Predict on test data\n",
    "y_pred_lasso = lasso_model.predict(X_test)\n",
    "\n",
    "# Evaluation metrics\n",
    "mae = mean_absolute_error(y_test, y_pred_lasso)\n",
    "mse = mean_squared_error(y_test, y_pred_lasso)\n",
    "rmse = np.sqrt(mse)\n",
    "r2 = r2_score(y_test, y_pred_lasso)\n",
    "mape = np.mean(np.abs((y_test - y_pred_lasso) / y_test)) * 100  # in %\n",
    "\n",
    "print(\"Lasso Performance:\")\n",
    "print(\"MAE :\", mae)\n",
    "print(\"MSE :\", mse)\n",
    "print(\"RMSE:\", rmse)\n",
    "print(\"R²  :\", r2)\n",
    "print(\"MAPE:\", mape)"
   ]
  },
  {
   "cell_type": "code",
   "execution_count": 34,
   "id": "d525ec7b-e7d8-4d13-8c00-3e7470b48b78",
   "metadata": {},
   "outputs": [
    {
     "name": "stdout",
     "output_type": "stream",
     "text": [
      "🔹 MAE  : 45592.21\n",
      "🔹 MSE  : 2782217545.95\n",
      "🔹 MAPE : 61.7%\n",
      "🔹 R²   : 0.0214\n",
      "🔹 MASE : 0.7396\n"
     ]
    }
   ],
   "source": [
    "from sklearn.svm import SVR\n",
    "from sklearn.pipeline import Pipeline\n",
    "from sklearn.compose import ColumnTransformer\n",
    "from sklearn.preprocessing import StandardScaler, OneHotEncoder\n",
    "from sklearn.metrics import mean_absolute_error, mean_squared_error, r2_score\n",
    "import numpy as np\n",
    "\n",
    "# Define preprocessing\n",
    "numeric_features = ['Age', 'Years of Experience']\n",
    "categorical_features = ['Education Level']\n",
    "\n",
    "preprocessor_svr = ColumnTransformer([\n",
    "    ('num', StandardScaler(), numeric_features),\n",
    "    ('cat', OneHotEncoder(drop='first'), categorical_features)\n",
    "])\n",
    "\n",
    "# Create SVR pipeline\n",
    "svr_model = Pipeline([\n",
    "    ('preprocessing', preprocessor_svr),\n",
    "    ('regressor', SVR(kernel='rbf', C=1.0, epsilon=0.1))\n",
    "])\n",
    "\n",
    "# Fit model\n",
    "svr_model.fit(X_train, y_train)\n",
    "\n",
    "# Predict\n",
    "y_pred_svr = svr_model.predict(X_test)\n",
    "\n",
    "# Evaluation metrics\n",
    "mae = mean_absolute_error(y_test, y_pred_svr)\n",
    "mse = mean_squared_error(y_test, y_pred_svr)\n",
    "mape = np.mean(np.abs((y_test - y_pred_svr) / y_test)) * 100\n",
    "r2 = r2_score(y_test, y_pred_svr)\n",
    "\n",
    "# MASE calculation\n",
    "y_naive = y_test.shift(1)\n",
    "naive_mae = np.mean(np.abs(y_test[1:] - y_naive[1:]))\n",
    "mase = mae / naive_mae if naive_mae != 0 else np.nan\n",
    "\n",
    "# Print results\n",
    "print(f\"🔹 MAE  : {round(mae, 2)}\")\n",
    "print(f\"🔹 MSE  : {round(mse, 2)}\")\n",
    "print(f\"🔹 MAPE : {round(mape, 2)}%\")\n",
    "print(f\"🔹 R²   : {round(r2, 4)}\")\n",
    "print(f\"🔹 MASE : {round(mase, 4)}\")"
   ]
  },
  {
   "cell_type": "code",
   "execution_count": 35,
   "id": "82e05f40-af7c-4bd3-b5a3-15af75e11892",
   "metadata": {},
   "outputs": [],
   "source": [
    "import xgboost as xgb\n",
    "from xgboost import XGBRegressor\n",
    "from sklearn.model_selection import train_test_split\n",
    "from sklearn.metrics import (\n",
    "    mean_absolute_error,\n",
    "    mean_squared_error,\n",
    "    mean_absolute_percentage_error,\n",
    "    r2_score\n",
    ")"
   ]
  },
  {
   "cell_type": "code",
   "execution_count": 36,
   "id": "71c1c06d-c162-485b-8659-de61199e5057",
   "metadata": {},
   "outputs": [
    {
     "name": "stdout",
     "output_type": "stream",
     "text": [
      "🔹 MAE  : 12268.88\n",
      "🔹 MSE  : 270186111.82\n",
      "🔹 MAPE : 12.81%\n",
      "🔹 R²   : 0.905\n",
      "🔹 MASE : 0.199\n"
     ]
    }
   ],
   "source": [
    "# Define preprocessing\n",
    "numeric_features = ['Age', 'Years of Experience']\n",
    "categorical_features = ['Education Level']\n",
    "\n",
    "preprocessor_xgb = ColumnTransformer([\n",
    "    ('num', StandardScaler(), numeric_features),\n",
    "    ('cat', OneHotEncoder(drop='first'), categorical_features)\n",
    "])\n",
    "\n",
    "# Create XGBoost pipeline\n",
    "xgb_model = Pipeline([\n",
    "    ('preprocessing', preprocessor_xgb),\n",
    "    ('regressor', XGBRegressor(n_estimators=100, learning_rate=0.1, max_depth=4, random_state=42))\n",
    "])\n",
    "\n",
    "# Fit model\n",
    "xgb_model.fit(X_train, y_train)\n",
    "\n",
    "# Predict\n",
    "y_pred_xgb = xgb_model.predict(X_test)\n",
    "\n",
    "# Evaluation metrics\n",
    "mae = mean_absolute_error(y_test, y_pred_xgb)\n",
    "mse = mean_squared_error(y_test, y_pred_xgb)\n",
    "mape = np.mean(np.abs((y_test - y_pred_xgb) / y_test)) * 100\n",
    "r2 = r2_score(y_test, y_pred_xgb)\n",
    "\n",
    "# MASE calculation\n",
    "y_naive = y_test.shift(1)\n",
    "naive_mae = np.mean(np.abs(y_test[1:] - y_naive[1:]))\n",
    "mase = mae / naive_mae if naive_mae != 0 else np.nan\n",
    "\n",
    "# Print results\n",
    "print(f\"🔹 MAE  : {round(mae, 2)}\")\n",
    "print(f\"🔹 MSE  : {round(mse, 2)}\")\n",
    "print(f\"🔹 MAPE : {round(mape, 2)}%\")\n",
    "print(f\"🔹 R²   : {round(r2, 4)}\")\n",
    "print(f\"🔹 MASE : {round(mase, 4)}\")"
   ]
  },
  {
   "cell_type": "code",
   "execution_count": 37,
   "id": "e79517d0-e596-4ff7-b858-3447c5546142",
   "metadata": {},
   "outputs": [],
   "source": [
    "#optimization"
   ]
  },
  {
   "cell_type": "code",
   "execution_count": 40,
   "id": "b7773d4b-62fd-4bfa-9cf4-be1580d87862",
   "metadata": {},
   "outputs": [
    {
     "name": "stderr",
     "output_type": "stream",
     "text": [
      "C:\\Users\\nusra\\OneDrive\\Documents\\Lib\\site-packages\\sklearn\\linear_model\\_coordinate_descent.py:695: ConvergenceWarning: Objective did not converge. You might want to increase the number of iterations, check the scale of the features or consider increasing regularisation. Duality gap: 1.174e+12, tolerance: 1.485e+05\n",
      "  model = cd_fast.enet_coordinate_descent(\n"
     ]
    },
    {
     "name": "stdout",
     "output_type": "stream",
     "text": [
      "     Model          RMSE        R²   MAPE (%)       RAE         RME\n",
      "0    Lasso  21156.820739  0.842554  17.166021  0.352330 -115.578651\n",
      "1    Ridge  21129.841054  0.842956  17.215159  0.352860  -76.861478\n",
      "2      SVR  24079.412621  0.796051  19.541932  0.374638  583.555096\n",
      "3  XGBoost  15446.751045  0.916073  12.121575  0.248546 -424.296563\n"
     ]
    }
   ],
   "source": [
    "from sklearn.pipeline import Pipeline\n",
    "from sklearn.compose import ColumnTransformer\n",
    "from sklearn.preprocessing import StandardScaler, OneHotEncoder, PolynomialFeatures\n",
    "from sklearn.linear_model import Lasso, Ridge\n",
    "from sklearn.svm import SVR\n",
    "from xgboost import XGBRegressor\n",
    "from sklearn.metrics import mean_squared_error, r2_score\n",
    "import numpy as np\n",
    "import pandas as pd\n",
    "\n",
    "# Final preprocessing: deeper polynomial features for richer patterns\n",
    "preprocessor = ColumnTransformer([\n",
    "    ('num_poly', Pipeline([\n",
    "        ('scale', StandardScaler()),\n",
    "        ('poly', PolynomialFeatures(degree=5, include_bias=False))\n",
    "    ]), ['Age', 'Years of Experience']),\n",
    "    ('cat', OneHotEncoder(drop='first'), ['Education Level'])\n",
    "])\n",
    "\n",
    "# Final model setup\n",
    "models = {\n",
    "    'Lasso': Pipeline([('prep', preprocessor), ('reg', Lasso(alpha=0.000001, max_iter=300000, tol=1e-8))]),\n",
    "    'Ridge': Pipeline([('prep', preprocessor), ('reg', Ridge(alpha=0.0001, solver='auto', tol=1e-8))]),\n",
    "    'SVR':   Pipeline([('prep', preprocessor), ('reg', SVR(kernel='rbf', C=2000, epsilon=0.00005, gamma='auto'))]),\n",
    "    'XGBoost': Pipeline([('prep', preprocessor), ('reg', XGBRegressor(n_estimators=200, max_depth=4, learning_rate=0.05, subsample=0.8))])\n",
    "}\n",
    "\n",
    "# Metric function\n",
    "def get_metrics(y_true, y_pred):\n",
    "    rmse = np.sqrt(mean_squared_error(y_true, y_pred))\n",
    "    r2 = r2_score(y_true, y_pred)\n",
    "    mape = np.mean(np.abs((y_true - y_pred) / y_true)) * 100\n",
    "    rae = np.sum(np.abs(y_true - y_pred)) / np.sum(np.abs(y_true - np.mean(y_true)))\n",
    "    rme = np.mean(y_true - y_pred)\n",
    "    return [rmse, r2, mape, rae, rme]\n",
    "\n",
    "# Fit, predict, evaluate\n",
    "results = []\n",
    "for name, model in models.items():\n",
    "    model.fit(X_train, y_train)\n",
    "    y_pred = model.predict(X_test)\n",
    "    metrics = get_metrics(y_test, y_pred)\n",
    "    results.append([name] + metrics)\n",
    "\n",
    "# Final comparison table\n",
    "metrics_df = pd.DataFrame(results, columns=['Model', 'RMSE', 'R²', 'MAPE (%)', 'RAE', 'RME'])\n",
    "print(metrics_df)\n"
   ]
  },
  {
   "cell_type": "code",
   "execution_count": 60,
   "id": "52f28ffb-3d77-4304-8169-d344d581b138",
   "metadata": {},
   "outputs": [
    {
     "name": "stderr",
     "output_type": "stream",
     "text": [
      "C:\\Users\\nusra\\OneDrive\\Documents\\Lib\\site-packages\\sklearn\\linear_model\\_coordinate_descent.py:695: ConvergenceWarning: Objective did not converge. You might want to increase the number of iterations, check the scale of the features or consider increasing regularisation. Duality gap: 1.188e+12, tolerance: 1.485e+06\n",
      "  model = cd_fast.enet_coordinate_descent(\n"
     ]
    },
    {
     "name": "stdout",
     "output_type": "stream",
     "text": [
      "           Model          RMSE        R²   MAPE (%)       RAE         RME\n",
      "0          Lasso  21276.196401  0.840773  17.271477  0.356350  -94.672026\n",
      "1          Ridge  21276.894175  0.840762  17.283933  0.356436  -92.887702\n",
      "2            SVR  23866.970838  0.799634  19.270457  0.380659  992.389228\n",
      "3        XGBoost  15590.669181  0.914501  12.178557  0.250208 -455.738573\n",
      "4  Random Forest  12895.728771  0.941505   8.516624  0.172041 -353.991570\n"
     ]
    }
   ],
   "source": [
    "from sklearn.ensemble import RandomForestRegressor\n",
    "\n",
    "# Add Random Forest to the models dictionary\n",
    "models['Random Forest'] = Pipeline([\n",
    "    ('prep', preprocessor),\n",
    "    ('reg', RandomForestRegressor())  # Default parameters, no optimization\n",
    "])\n",
    "\n",
    "# Fit, predict, evaluate\n",
    "results = []\n",
    "for name, model in models.items():\n",
    "    model.fit(X_train, y_train)\n",
    "    y_pred = model.predict(X_test)\n",
    "    metrics = get_metrics(y_test, y_pred)\n",
    "    results.append([name] + metrics)\n",
    "\n",
    "# Final comparison table\n",
    "metrics_df = pd.DataFrame(results, columns=['Model', 'RMSE', 'R²', 'MAPE (%)', 'RAE', 'RME'])\n",
    "print(metrics_df)"
   ]
  },
  {
   "cell_type": "code",
   "execution_count": null,
   "id": "6beca1c8-f789-4a72-bdeb-2d182501be89",
   "metadata": {},
   "outputs": [],
   "source": []
  }
 ],
 "metadata": {
  "kernelspec": {
   "display_name": "Python 3 (ipykernel)",
   "language": "python",
   "name": "python3"
  },
  "language_info": {
   "codemirror_mode": {
    "name": "ipython",
    "version": 3
   },
   "file_extension": ".py",
   "mimetype": "text/x-python",
   "name": "python",
   "nbconvert_exporter": "python",
   "pygments_lexer": "ipython3",
   "version": "3.13.5"
  }
 },
 "nbformat": 4,
 "nbformat_minor": 5
}
